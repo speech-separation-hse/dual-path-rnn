{
 "cells": [
  {
   "cell_type": "code",
   "execution_count": 2,
   "metadata": {},
   "outputs": [],
   "source": [
    "import random\n",
    "import uuid\n",
    "from pathlib import Path\n",
    "\n",
    "import pandas as pd\n",
    "\n",
    "import numpy as np\n",
    "\n",
    "from librosa.core import get_duration, resample, load\n",
    "from librosa.output import write_wav\n",
    "\n",
    "from pydub import AudioSegment\n",
    "\n",
    "from tqdm.autonotebook import tqdm, trange"
   ]
  },
  {
   "cell_type": "code",
   "execution_count": 3,
   "metadata": {},
   "outputs": [],
   "source": [
    "import IPython.display as ipd"
   ]
  },
  {
   "cell_type": "code",
   "execution_count": 4,
   "metadata": {},
   "outputs": [],
   "source": [
    "data_dir = Path('Y:\\CSC\\Audio-denoiser\\data') / 'nr'"
   ]
  },
  {
   "cell_type": "code",
   "execution_count": 5,
   "metadata": {},
   "outputs": [],
   "source": [
    "base_output_dir = Path('Y:\\CSC\\dual-path-rnn\\data')"
   ]
  },
  {
   "cell_type": "code",
   "execution_count": 6,
   "metadata": {},
   "outputs": [
    {
     "data": {
      "text/plain": [
       "[WindowsPath('Y:/CSC/Audio-denoiser/data/nr/test'),\n",
       " WindowsPath('Y:/CSC/Audio-denoiser/data/nr/train')]"
      ]
     },
     "execution_count": 6,
     "metadata": {},
     "output_type": "execute_result"
    }
   ],
   "source": [
    "list(data_dir.iterdir())"
   ]
  },
  {
   "cell_type": "markdown",
   "metadata": {},
   "source": [
    "## Почему так?\n",
    "Из-за непонятной мне причины, `spleeter` работает только с стерое-аудио, причем с `sample_rate` только 44100."
   ]
  },
  {
   "cell_type": "code",
   "execution_count": 7,
   "metadata": {},
   "outputs": [],
   "source": [
    "from_sr = 8000\n",
    "to_sr = 8000\n",
    "to_channels = \"1\""
   ]
  },
  {
   "cell_type": "code",
   "execution_count": 8,
   "metadata": {},
   "outputs": [],
   "source": [
    "def preprocess_part(part, num_audios):\n",
    "    df = pd.DataFrame(columns=[\"mix_path\", \"first_speaker_path\", \"second_speaker_path\", \"duration\"])\n",
    "    \n",
    "    source_audio_dir = data_dir / part / \"source\"\n",
    "    source_audios = list(source_audio_dir.iterdir())\n",
    "    \n",
    "    for i in trange(num_audios):\n",
    "        # select 2 random audios to mix\n",
    "        first_speaker_filename, second_speaker_filename = random.sample(source_audios, k=2)\n",
    "        # read audios\n",
    "        first_speaker = AudioSegment.from_wav(first_speaker_filename / \"1.wav\")\n",
    "        second_speaker = AudioSegment.from_wav(second_speaker_filename / \"1.wav\")\n",
    "        \n",
    "        # random offset from start for mix\n",
    "        offset_duration = random.randint(0, 5) * 1000 # seconds to milliseconds\n",
    "        first_speaker += AudioSegment.silent(duration=offset_duration, frame_rate=to_sr)\n",
    "        second_speaker = AudioSegment.silent(duration=offset_duration, frame_rate=to_sr) + second_speaker\n",
    "        \n",
    "        # overlay 2 audios\n",
    "        mix_audio = first_speaker.overlay(second_speaker)\n",
    "        \n",
    "        # save to random output folder\n",
    "        output_folder = base_output_dir / part / str(uuid.uuid4().hex)\n",
    "        output_folder.mkdir(parents=True, exist_ok=True)\n",
    "        first_speaker.export(output_folder / \"first_speaker.wav\", parameters=[\"-ac\", to_channels], format=\"wav\")\n",
    "        second_speaker.export(output_folder / \"second_speaker.wav\", parameters=[\"-ac\", to_channels], format=\"wav\")\n",
    "        mix_audio.export(output_folder / \"mix_audio.wav\", parameters=[\"-ac\", to_channels], format=\"wav\")\n",
    "        \n",
    "        # append to dataframe\n",
    "        relative_path = output_folder.relative_to(base_output_dir)\n",
    "        df.loc[len(df)] = [str(relative_path / \"mix_audio.wav\"), str(relative_path / \"first_speaker.wav\"), str(relative_path / \"second_speaker.wav\"), mix_audio.duration_seconds]\n",
    "        \n",
    "    df.to_csv(base_output_dir / f\"{part}.csv\", index=False)\n",
    "    return df.head()"
   ]
  },
  {
   "cell_type": "code",
   "execution_count": 9,
   "metadata": {},
   "outputs": [
    {
     "data": {
      "application/vnd.jupyter.widget-view+json": {
       "model_id": "a411323d4c4146ed9b5c85c0899e29ab",
       "version_major": 2,
       "version_minor": 0
      },
      "text/plain": [
       "HBox(children=(FloatProgress(value=0.0, max=5000.0), HTML(value='')))"
      ]
     },
     "metadata": {},
     "output_type": "display_data"
    },
    {
     "name": "stdout",
     "output_type": "stream",
     "text": [
      "\n"
     ]
    },
    {
     "data": {
      "text/html": [
       "<div>\n",
       "<style scoped>\n",
       "    .dataframe tbody tr th:only-of-type {\n",
       "        vertical-align: middle;\n",
       "    }\n",
       "\n",
       "    .dataframe tbody tr th {\n",
       "        vertical-align: top;\n",
       "    }\n",
       "\n",
       "    .dataframe thead th {\n",
       "        text-align: right;\n",
       "    }\n",
       "</style>\n",
       "<table border=\"1\" class=\"dataframe\">\n",
       "  <thead>\n",
       "    <tr style=\"text-align: right;\">\n",
       "      <th></th>\n",
       "      <th>mix_path</th>\n",
       "      <th>first_speaker_path</th>\n",
       "      <th>second_speaker_path</th>\n",
       "      <th>duration</th>\n",
       "    </tr>\n",
       "  </thead>\n",
       "  <tbody>\n",
       "    <tr>\n",
       "      <th>0</th>\n",
       "      <td>train\\07364d009bc647cb803d23dbce2c7168\\mix_aud...</td>\n",
       "      <td>train\\07364d009bc647cb803d23dbce2c7168\\first_s...</td>\n",
       "      <td>train\\07364d009bc647cb803d23dbce2c7168\\second_...</td>\n",
       "      <td>16.0</td>\n",
       "    </tr>\n",
       "    <tr>\n",
       "      <th>1</th>\n",
       "      <td>train\\3ae96017161a4695b169da102281970a\\mix_aud...</td>\n",
       "      <td>train\\3ae96017161a4695b169da102281970a\\first_s...</td>\n",
       "      <td>train\\3ae96017161a4695b169da102281970a\\second_...</td>\n",
       "      <td>17.0</td>\n",
       "    </tr>\n",
       "    <tr>\n",
       "      <th>2</th>\n",
       "      <td>train\\0a19908f247f46e9862de3730a9870f3\\mix_aud...</td>\n",
       "      <td>train\\0a19908f247f46e9862de3730a9870f3\\first_s...</td>\n",
       "      <td>train\\0a19908f247f46e9862de3730a9870f3\\second_...</td>\n",
       "      <td>16.0</td>\n",
       "    </tr>\n",
       "    <tr>\n",
       "      <th>3</th>\n",
       "      <td>train\\77b77c73022b4abc84ee704a95cb25c7\\mix_aud...</td>\n",
       "      <td>train\\77b77c73022b4abc84ee704a95cb25c7\\first_s...</td>\n",
       "      <td>train\\77b77c73022b4abc84ee704a95cb25c7\\second_...</td>\n",
       "      <td>19.0</td>\n",
       "    </tr>\n",
       "    <tr>\n",
       "      <th>4</th>\n",
       "      <td>train\\a677e6ea7a9d43029d109164f96f3b56\\mix_aud...</td>\n",
       "      <td>train\\a677e6ea7a9d43029d109164f96f3b56\\first_s...</td>\n",
       "      <td>train\\a677e6ea7a9d43029d109164f96f3b56\\second_...</td>\n",
       "      <td>19.0</td>\n",
       "    </tr>\n",
       "  </tbody>\n",
       "</table>\n",
       "</div>"
      ],
      "text/plain": [
       "                                            mix_path  \\\n",
       "0  train\\07364d009bc647cb803d23dbce2c7168\\mix_aud...   \n",
       "1  train\\3ae96017161a4695b169da102281970a\\mix_aud...   \n",
       "2  train\\0a19908f247f46e9862de3730a9870f3\\mix_aud...   \n",
       "3  train\\77b77c73022b4abc84ee704a95cb25c7\\mix_aud...   \n",
       "4  train\\a677e6ea7a9d43029d109164f96f3b56\\mix_aud...   \n",
       "\n",
       "                                  first_speaker_path  \\\n",
       "0  train\\07364d009bc647cb803d23dbce2c7168\\first_s...   \n",
       "1  train\\3ae96017161a4695b169da102281970a\\first_s...   \n",
       "2  train\\0a19908f247f46e9862de3730a9870f3\\first_s...   \n",
       "3  train\\77b77c73022b4abc84ee704a95cb25c7\\first_s...   \n",
       "4  train\\a677e6ea7a9d43029d109164f96f3b56\\first_s...   \n",
       "\n",
       "                                 second_speaker_path  duration  \n",
       "0  train\\07364d009bc647cb803d23dbce2c7168\\second_...      16.0  \n",
       "1  train\\3ae96017161a4695b169da102281970a\\second_...      17.0  \n",
       "2  train\\0a19908f247f46e9862de3730a9870f3\\second_...      16.0  \n",
       "3  train\\77b77c73022b4abc84ee704a95cb25c7\\second_...      19.0  \n",
       "4  train\\a677e6ea7a9d43029d109164f96f3b56\\second_...      19.0  "
      ]
     },
     "execution_count": 9,
     "metadata": {},
     "output_type": "execute_result"
    }
   ],
   "source": [
    "preprocess_part(\"train\", num_audios=5000)"
   ]
  },
  {
   "cell_type": "code",
   "execution_count": 11,
   "metadata": {
    "scrolled": true
   },
   "outputs": [
    {
     "data": {
      "application/vnd.jupyter.widget-view+json": {
       "model_id": "9a6e6a6474ce45d49850f28e5b32a556",
       "version_major": 2,
       "version_minor": 0
      },
      "text/plain": [
       "HBox(children=(FloatProgress(value=0.0, max=800.0), HTML(value='')))"
      ]
     },
     "metadata": {},
     "output_type": "display_data"
    },
    {
     "name": "stdout",
     "output_type": "stream",
     "text": [
      "\n"
     ]
    },
    {
     "data": {
      "text/html": [
       "<div>\n",
       "<style scoped>\n",
       "    .dataframe tbody tr th:only-of-type {\n",
       "        vertical-align: middle;\n",
       "    }\n",
       "\n",
       "    .dataframe tbody tr th {\n",
       "        vertical-align: top;\n",
       "    }\n",
       "\n",
       "    .dataframe thead th {\n",
       "        text-align: right;\n",
       "    }\n",
       "</style>\n",
       "<table border=\"1\" class=\"dataframe\">\n",
       "  <thead>\n",
       "    <tr style=\"text-align: right;\">\n",
       "      <th></th>\n",
       "      <th>mix_path</th>\n",
       "      <th>first_speaker_path</th>\n",
       "      <th>second_speaker_path</th>\n",
       "      <th>duration</th>\n",
       "    </tr>\n",
       "  </thead>\n",
       "  <tbody>\n",
       "    <tr>\n",
       "      <th>0</th>\n",
       "      <td>test\\d88e8dad4b1c48e6b6d4753bc5c0ed4f\\mix_audi...</td>\n",
       "      <td>test\\d88e8dad4b1c48e6b6d4753bc5c0ed4f\\first_sp...</td>\n",
       "      <td>test\\d88e8dad4b1c48e6b6d4753bc5c0ed4f\\second_s...</td>\n",
       "      <td>18.0</td>\n",
       "    </tr>\n",
       "    <tr>\n",
       "      <th>1</th>\n",
       "      <td>test\\1a3018d9f46f49a480de5af431dd2f77\\mix_audi...</td>\n",
       "      <td>test\\1a3018d9f46f49a480de5af431dd2f77\\first_sp...</td>\n",
       "      <td>test\\1a3018d9f46f49a480de5af431dd2f77\\second_s...</td>\n",
       "      <td>15.0</td>\n",
       "    </tr>\n",
       "    <tr>\n",
       "      <th>2</th>\n",
       "      <td>test\\0dc27dfdb13c4e138e5bffab7ab7da66\\mix_audi...</td>\n",
       "      <td>test\\0dc27dfdb13c4e138e5bffab7ab7da66\\first_sp...</td>\n",
       "      <td>test\\0dc27dfdb13c4e138e5bffab7ab7da66\\second_s...</td>\n",
       "      <td>19.0</td>\n",
       "    </tr>\n",
       "    <tr>\n",
       "      <th>3</th>\n",
       "      <td>test\\afaf75938aa04dd38f98438234cdbefb\\mix_audi...</td>\n",
       "      <td>test\\afaf75938aa04dd38f98438234cdbefb\\first_sp...</td>\n",
       "      <td>test\\afaf75938aa04dd38f98438234cdbefb\\second_s...</td>\n",
       "      <td>19.0</td>\n",
       "    </tr>\n",
       "    <tr>\n",
       "      <th>4</th>\n",
       "      <td>test\\00e211cee7c94b588b812f442c4171c0\\mix_audi...</td>\n",
       "      <td>test\\00e211cee7c94b588b812f442c4171c0\\first_sp...</td>\n",
       "      <td>test\\00e211cee7c94b588b812f442c4171c0\\second_s...</td>\n",
       "      <td>15.0</td>\n",
       "    </tr>\n",
       "  </tbody>\n",
       "</table>\n",
       "</div>"
      ],
      "text/plain": [
       "                                            mix_path  \\\n",
       "0  test\\d88e8dad4b1c48e6b6d4753bc5c0ed4f\\mix_audi...   \n",
       "1  test\\1a3018d9f46f49a480de5af431dd2f77\\mix_audi...   \n",
       "2  test\\0dc27dfdb13c4e138e5bffab7ab7da66\\mix_audi...   \n",
       "3  test\\afaf75938aa04dd38f98438234cdbefb\\mix_audi...   \n",
       "4  test\\00e211cee7c94b588b812f442c4171c0\\mix_audi...   \n",
       "\n",
       "                                  first_speaker_path  \\\n",
       "0  test\\d88e8dad4b1c48e6b6d4753bc5c0ed4f\\first_sp...   \n",
       "1  test\\1a3018d9f46f49a480de5af431dd2f77\\first_sp...   \n",
       "2  test\\0dc27dfdb13c4e138e5bffab7ab7da66\\first_sp...   \n",
       "3  test\\afaf75938aa04dd38f98438234cdbefb\\first_sp...   \n",
       "4  test\\00e211cee7c94b588b812f442c4171c0\\first_sp...   \n",
       "\n",
       "                                 second_speaker_path  duration  \n",
       "0  test\\d88e8dad4b1c48e6b6d4753bc5c0ed4f\\second_s...      18.0  \n",
       "1  test\\1a3018d9f46f49a480de5af431dd2f77\\second_s...      15.0  \n",
       "2  test\\0dc27dfdb13c4e138e5bffab7ab7da66\\second_s...      19.0  \n",
       "3  test\\afaf75938aa04dd38f98438234cdbefb\\second_s...      19.0  \n",
       "4  test\\00e211cee7c94b588b812f442c4171c0\\second_s...      15.0  "
      ]
     },
     "execution_count": 11,
     "metadata": {},
     "output_type": "execute_result"
    }
   ],
   "source": [
    "preprocess_part(\"test\", num_audios=800)"
   ]
  }
 ],
 "metadata": {
  "kernelspec": {
   "display_name": "Python 3",
   "language": "python",
   "name": "python3"
  },
  "language_info": {
   "codemirror_mode": {
    "name": "ipython",
    "version": 3
   },
   "file_extension": ".py",
   "mimetype": "text/x-python",
   "name": "python",
   "nbconvert_exporter": "python",
   "pygments_lexer": "ipython3",
   "version": "3.7.7"
  }
 },
 "nbformat": 4,
 "nbformat_minor": 4
}
